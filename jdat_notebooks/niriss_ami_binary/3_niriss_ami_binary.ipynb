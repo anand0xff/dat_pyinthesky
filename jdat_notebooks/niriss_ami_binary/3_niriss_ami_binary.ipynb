{
 "cells": [
  {
   "cell_type": "markdown",
   "metadata": {
    "slideshow": {
     "slide_type": "slide"
    }
   },
   "source": [
    "# Draft:  Binary fitting using AMICAL"
   ]
  },
  {
   "cell_type": "markdown",
   "metadata": {
    "slideshow": {
     "slide_type": "skip"
    }
   },
   "source": [
    "***"
   ]
  },
  {
   "cell_type": "markdown",
   "metadata": {
    "slideshow": {
     "slide_type": "slide"
    }
   },
   "source": [
    "## Imports\n",
    "Describe the libraries we're using here. If there's something unusual, explain what the library is, and why we need it.\n",
    "- *numpy* to handle array functions\n",
    "- *astropy.io fits* for accessing FITS files\n",
    "- *astropy.table Table* for creating tidy tables of the data\n",
    "- *matplotlib.pyplot* for plotting data\n",
    "- *import amical* University of Sydney interferometric package\n",
    "\n",
    "\n",
    "Clone AMICAL repository on your computer:\n",
    "git clone https://github.com/SydneyAstrophotonicInstrumentationLab/AMICAL.git  \n",
    "\n",
    "Then, in the astropy conda environment, install AMICAL:\n",
    "cd AMICAL/\n",
    "pip install .\n"
   ]
  },
  {
   "cell_type": "code",
   "execution_count": null,
   "metadata": {
    "slideshow": {
     "slide_type": "fragment"
    }
   },
   "outputs": [],
   "source": [
    "%matplotlib inline\n",
    "import numpy as np\n",
    "from astropy.io import fits\n",
    "from astropy.table import Table\n",
    "import matplotlib.pyplot as plt\n",
    "from astroquery.mast import Mast\n",
    "from astroquery.mast import Observations\n",
    "import multiprocessing\n",
    "import amical"
   ]
  },
  {
   "cell_type": "markdown",
   "metadata": {
    "slideshow": {
     "slide_type": "slide"
    }
   },
   "source": [
    "## Introduction\n",
    "This notebook takes a calibrated OIFITS file and estimates the parameters of a best-fit binary model  It is closely based on Anthony Soulain's example script analyzing NIRISS AMI commissioning on the know binary AB Dor AC. \n",
    "\n",
    "In this use, AMICAL interfaces with the [CANDID (Companion Analysis and Non-Detection in Interferometric Data) analysis package](https://github.com/amerand/CANDID), which is included with AMICAL.  The  CANDID code is decribed by [Galenne et al. 2015](https://ui.adsabs.harvard.edu/link_gateway/2015A&A...579A..68G/doi:10.1051/0004-6361/201525917).    It utilizes model-fitting and chi-squared minimization.  See the [CANDID github page](https://github.com/amerand/CANDID) for further details.\n",
    "\n",
    "### Defining terms\n",
    "[OIFITS](https://doi.org/10.1051/0004-6361/201526405) files are the Optical Interferometry standard FITS files used by the community.  AMICAL is **A**perture **M**asking **I**nterferometry **C**alibration and **A**nalysis **L**ibrary.  It is developed by the Sydney Astrophotonic Instrumentation Lab [![version](http://img.shields.io/badge/AMICAL-v0.5dev-orange.svg?style=flat)](https://github.com/SydneyAstrophotonicInstrumentationLab/AMICAL.git)\n",
    "\n",
    "\n",
    "A science target's observables are **calibrated** by the observables of a PSF calibrator star's image, to remove telescope/instrument effects (as far as possible).\n"
   ]
  },
  {
   "cell_type": "markdown",
   "metadata": {},
   "source": [
    "***"
   ]
  },
  {
   "cell_type": "markdown",
   "metadata": {
    "slideshow": {
     "slide_type": "slide"
    }
   },
   "source": [
    "## Loading data\n",
    "Load the input, a science target's calibrated oifits file, from **longURL**.  This file needs to have interferometric observables corresponding to all possible baselines in the non-redundant mask, and their \"straight\" standard deviations (without consideration for linear dependence within a set of variables)."
   ]
  },
  {
   "cell_type": "markdown",
   "metadata": {},
   "source": [
    "**Developer note** Use our tools to look at some of the fits tables: closure phase and fringe amplitude in particlar.  More visuals during the reduction later on here...\n",
    "\n",
    "The example dataset comes with a NIRISS simulated dataset representing a faint binary star \n",
    "- Magnitude difference: dm = 6 mag at 4.3 μm (a flux ratio of 251.2)\n",
    "- Sub-λ/D separation sep = 147.7 mas\n",
    "- Position angle theta = 46.6 degrees \n",
    "- Filter F430M\n"
   ]
  },
  {
   "cell_type": "code",
   "execution_count": null,
   "metadata": {},
   "outputs": [],
   "source": [
    "sep = 147.7  # binary separation [mas]\n",
    "theta = 46.6  # position angle (pa) [deg]\n",
    "dm = 6.0  # contrast ratio [mag]"
   ]
  },
  {
   "cell_type": "code",
   "execution_count": null,
   "metadata": {},
   "outputs": [],
   "source": [
    "# Download the products\n",
    "# Observations.download_products(yourProd, mrp_only=False, cache=False)"
   ]
  },
  {
   "cell_type": "markdown",
   "metadata": {
    "slideshow": {
     "slide_type": "slide"
    }
   },
   "source": [
    "## File Information\n",
    "Load the input, a science target's calibrated oifits file, from **longURL**.  This file needs to have interferometric observables corresponding to all possible baselines in the non-redundant mask, and their \"straight\" standard deviations (without consideration for linear dependence within a set of variables).\n",
    "OIFITS files are multi-extension FITS binary tables.  The sample input file contains HDU's"
   ]
  },
  {
   "cell_type": "code",
   "execution_count": null,
   "metadata": {},
   "outputs": [],
   "source": [
    "%%html\n",
    "<style>\n",
    "table {float:left}\n",
    "</style>"
   ]
  },
  {
   "cell_type": "markdown",
   "metadata": {},
   "source": [
    "\n",
    "|No.| Name     |  Ver  | Type          | Cards|  Dimensions    |\n",
    "|:---:|:---------------|:---:|:-------------|:-----:|:---------|\n",
    "  0 | PRIMARY       | 1 | PrimaryHDU   |  18 | None\n",
    "  1 | OI_WAVELENGTH | 1 | BinTableHDU  |  17 | 1R x 2C\n",
    "  2 | OI_TARGET     | 1 | BinTableHDU  |  56 | 1R x 17C \n",
    "  3 | OI_ARRAY      | 1 | BinTableHDU  |  32 | 7R x 7C \n",
    "  4 | OI_VIS2       | 1 | BinTableHDU  |  38 | 21R x 10C\n",
    "  5 | OI_T3         | 1 | BinTableHDU  |  50 | 35R x 14C\n",
    "  "
   ]
  },
  {
   "cell_type": "markdown",
   "metadata": {},
   "source": [
    "**Developer note** Final HDU's will be similar, but is 2_niriss_ami_binary.py output.  For initial development a canned other oifits with slightly different structure is used.  The essential HDUs exist in both input files, to enable notebook development."
   ]
  },
  {
   "cell_type": "markdown",
   "metadata": {},
   "source": [
    "## Sections (xN)\n",
    "\n",
    "The meat of your notebook should be sub-divided into sections with useful names to whatever extent makes sense base on the content. Break sections up with standard Markdown syntax headings:\n",
    "\n",
    "```\n",
    "# Section 1\n",
    "\n",
    "\n",
    "\n",
    "### Sub-section 1a\n",
    "\n",
    "More detailed info about Section 1\n",
    "\n",
    "## Section 2\n",
    "\n",
    "A complete thought that's as important as section 1 but doesn't need sub-sections.\n",
    "```"
   ]
  },
  {
   "cell_type": "code",
   "execution_count": null,
   "metadata": {},
   "outputs": [],
   "source": [
    "# Your input data is an oifits file (or a list of oifits files).\n",
    "inputdata = 'example_fakebinary_NIRISS.oifits'"
   ]
  },
  {
   "cell_type": "code",
   "execution_count": null,
   "metadata": {},
   "outputs": [],
   "source": [
    "# Set up parameters for the binary serch grid\n",
    "param_candid = {'rmin': 20,  # inner radius of the grid\n",
    "                'rmax': 250,  # outer radius of the grid\n",
    "                'step': 50,  # grid sampling\n",
    "                'ncore': multiprocessing.cpu_count()  # core for multiprocessing\n",
    "                }"
   ]
  },
  {
   "cell_type": "code",
   "execution_count": null,
   "metadata": {},
   "outputs": [],
   "source": [
    "# Utilize the provided interface to the CANDID package\n",
    "\"\"\" This function is an user friendly interface between the users of amical\n",
    "    pipeline and the CANDID analysis package (https://github.com/amerand/CANDID).\n",
    "\n",
    "    Parameters:\n",
    "    -----------\n",
    "    `input_data` {str or list}:\n",
    "        oifits file names or list of oifits files,\\n\n",
    "    `step` {int}:\n",
    "        step used to compute the binary grid positions,\\n\n",
    "    `rmin`, `rmax` {float}:\n",
    "        Bounds of the grid [mas],\\n\n",
    "    `diam` {float}:\n",
    "        Stellar diameter of the primary star [mas] (default=0),\\n\n",
    "    `obs` {list}:\n",
    "        List of observables to be fitted (default: ['cp', 'v2']),\\n\n",
    "    `doNotFit` {list}:\n",
    "        Parameters not fitted (default: ['diam*']),\\n\n",
    "    `verbose` {boolean}:\n",
    "        print some informations {default: False}.\n",
    "\n",
    "    Outputs:\n",
    "    --------\n",
    "    `res` {dict}:\n",
    "        Dictionary of the results ('best'), uncertainties ('uncer'),\n",
    "        reduced chi2 ('chi2') and sigma detection ('nsigma').\n",
    "\"\"\"\n",
    "\n",
    "fit1 = amical.candid_grid(inputdata, **param_candid, diam=20, doNotFit=[])"
   ]
  },
  {
   "cell_type": "code",
   "execution_count": null,
   "metadata": {},
   "outputs": [],
   "source": [
    "#  Find detection limits using the fake injection method\n",
    "cr_candid = amical.candid_cr_limit(\n",
    "            inputdata, **param_candid, fitComp=fit1['comp'])"
   ]
  },
  {
   "cell_type": "markdown",
   "metadata": {},
   "source": [
    "## Exercises\n",
    "Most notebooks are trying to convey _some_ information to their reader. It's often a good idea, if possible, to include in the notebook something where there is not an included answer so that the reader can cement in their mind how whatever it is they were supposed to learn from that notebook. If you do have exercise(s), be sure to leave a blank code cell underneath to show the user that it's meant for them to try it out right there. You may also want to include a \"solutions\" notebook next to your main notebook for the user to look at after they have finished their attempt."
   ]
  },
  {
   "cell_type": "markdown",
   "metadata": {},
   "source": [
    "## Aditional Resources\n",
    "While this isn't always necessary, sometimes you want to provide some more resources for the reader who wants to learn something beyond what's in the notebook. Sometimes these don't exist, but if they do, it's good to put them at the end to give the reader somewhere else to go. Usually a list of links using markdown bullet-plus-link format is appropriate:\n",
    "\n",
    "- [MAST API](https://mast.stsci.edu/api/v0/index.html)\n",
    "- [Kepler Archive Page (MAST)](https://archive.stsci.edu/kepler/)\n",
    "- [Kepler Archive Manual](https://archive.stsci.edu/kepler/manuals/archive_manual.pdf)\n",
    "- [Exo.MAST website](https://exo.mast.stsci.edu/exo/ExoMast/html/exomast.html)"
   ]
  },
  {
   "cell_type": "markdown",
   "metadata": {
    "slideshow": {
     "slide_type": "slide"
    }
   },
   "source": [
    "## About this notebook\n",
    "Let the world know who the author of this great notebook is! If possible/appropriate, include a contact email address for users who might need support (e.g. archive@stsci.edu)\n",
    "\n",
    "**Author:** Anand Sivaramakrishnan's transcription of an analysis script written by Anthony Soulain (University of Sydney) that runs the CANDID interferometric package  \n",
    "**Updated On:** 2020-09-17"
   ]
  },
  {
   "cell_type": "markdown",
   "metadata": {},
   "source": [
    "***"
   ]
  },
  {
   "cell_type": "markdown",
   "metadata": {},
   "source": [
    "[Top of Page](#top)\n",
    "<img style=\"float: right;\" src=\"https://raw.githubusercontent.com/spacetelescope/notebooks/master/assets/stsci_pri_combo_mark_horizonal_white_bkgd.png\" alt=\"Space Telescope Logo\" width=\"200px\"/> "
   ]
  }
 ],
 "metadata": {
  "kernelspec": {
   "display_name": "Python 3",
   "language": "python",
   "name": "python3"
  },
  "language_info": {
   "codemirror_mode": {
    "name": "ipython",
    "version": 3
   },
   "file_extension": ".py",
   "mimetype": "text/x-python",
   "name": "python",
   "nbconvert_exporter": "python",
   "pygments_lexer": "ipython3",
   "version": "3.6.10"
  }
 },
 "nbformat": 4,
 "nbformat_minor": 2
}
