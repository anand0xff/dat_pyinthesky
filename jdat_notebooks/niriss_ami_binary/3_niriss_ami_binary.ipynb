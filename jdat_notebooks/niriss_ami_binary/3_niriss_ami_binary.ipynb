{
 "cells": [
  {
   "cell_type": "markdown",
   "metadata": {
    "slideshow": {
     "slide_type": "slide"
    }
   },
   "source": [
    "# Draft:  Binary fitting using AMICAL"
   ]
  },
  {
   "cell_type": "markdown",
   "metadata": {
    "slideshow": {
     "slide_type": "skip"
    }
   },
   "source": [
    "***"
   ]
  },
  {
   "cell_type": "markdown",
   "metadata": {
    "slideshow": {
     "slide_type": "slide"
    }
   },
   "source": [
    "## Imports\n",
    "Describe the libraries we're using here. If there's something unusual, explain what the library is, and why we need it.\n",
    "- *numpy* to handle array functions\n",
    "- *astropy.io fits* for accessing FITS files\n",
    "- *astropy.table Table* for creating tidy tables of the data\n",
    "- *matplotlib.pyplot* for plotting data\n",
    "- *import amical* University of Sydney interferometric package\n",
    "\n",
    "\n",
    "Clone AMICAL repository on your computer:\n",
    "git clone https://github.com/SydneyAstrophotonicInstrumentationLab/AMICAL.git  \n",
    "\n",
    "Then, in the astropy conda environment, install AMICAL:\n",
    "cd AMICAL/\n",
    "pip install .\n"
   ]
  },
  {
   "cell_type": "code",
   "execution_count": null,
   "metadata": {
    "slideshow": {
     "slide_type": "fragment"
    }
   },
   "outputs": [],
   "source": [
    "%matplotlib inline\n",
    "import numpy as np\n",
    "from astropy.io import fits\n",
    "from astropy.table import Table\n",
    "import matplotlib.pyplot as plt\n",
    "import amical"
   ]
  },
  {
   "cell_type": "markdown",
   "metadata": {
    "slideshow": {
     "slide_type": "slide"
    }
   },
   "source": [
    "## Introduction\n",
    "This notebook takes a calibrated OIFITS file and estimates the parameters of a best-fit binary model  It is closely based on Anthony Soulain's example script analyzing NIRISS AMI commissioning on the know binary AB Dor AC. \n",
    "\n",
    "### Defining terms\n",
    "[OIFITS](https://doi.org/10.1051/0004-6361/201526405) files are the Optical Interferometry standard FITS files used by the community.  AMICAL is **A**perture **M**asking **I**nterferometry **C**alibration and **A**nalysis **L**ibrary.  It is developed by the Sydney Astrophotonic Instrumentation Lab [![version](http://img.shields.io/badge/AMICAL-v0.5dev-orange.svg?style=flat)](https://github.com/SydneyAstrophotonicInstrumentationLab/AMICAL.git)\n",
    "\n",
    "\n",
    "A science target's observables are **calibrated** by the observables of a PSF calibrator star's image, to remove telescope/instrument effects (as far as possible).\n"
   ]
  },
  {
   "cell_type": "markdown",
   "metadata": {},
   "source": [
    "***"
   ]
  },
  {
   "cell_type": "markdown",
   "metadata": {
    "slideshow": {
     "slide_type": "slide"
    }
   },
   "source": [
    "## Loading data\n",
    "Load the input, a science target's calibrated oifits file, from **longURL**.  This file needs to have interferometric observables corresponding to all possible baselines in the non-redundant mask, and their \"straight\" standard deviations (without consideration for linear dependence within a set of variables)."
   ]
  },
  {
   "cell_type": "markdown",
   "metadata": {
    "slideshow": {
     "slide_type": "slide"
    }
   },
   "source": [
    "For example, if we wanted to query for data from MAST for Kepler we might do something like:"
   ]
  },
  {
   "cell_type": "markdown",
   "metadata": {},
   "source": [
    "**Developer note** Use our tools to look at some of the fits tables: closure phase and fringe amplitude in particlar.  More visuals during the reduction later on here...\n",
    "\n",
    "The example dataset comes with a NIRISS simulated dataset representing a faint binary star \n",
    "- Magnitude difference: 6 mag at 4.3 μm\n",
    "- Sub-λ/D separation 147.7 mas\n",
    "- Position angle theta 46.6 degrees \n",
    "- Filter F430M\n"
   ]
  },
  {
   "cell_type": "code",
   "execution_count": null,
   "metadata": {},
   "outputs": [],
   "source": [
    "sep = 147.7  # binary separation [mas]\n",
    "theta = 46.6  # position angle (pa) [deg]\n",
    "dm = 6.0  # contrast ratio [mag"
   ]
  },
  {
   "cell_type": "code",
   "execution_count": null,
   "metadata": {},
   "outputs": [],
   "source": [
    "# Download the products\n",
    "Observations.download_products(yourProd, mrp_only=False, cache=False)"
   ]
  },
  {
   "cell_type": "markdown",
   "metadata": {},
   "source": [
    "## File information\n",
    "\n",
    "Explain pertinent details about the file you've just downloaded. For example, if working with Kepler lightcurves, explain what's in the different file extensions:\n",
    "\n",
    "```\n",
    "- No. 0 (Primary): This HDU contains meta-data related to the entire file.\n",
    "- No. 1 (Light curve): This HDU contains a binary table that holds data like flux measurements and times. We will extract information from here when we define the parameters for the light curve plot.\n",
    "- No. 2 (Aperture): This HDU contains the image extension with data collected from the aperture. We will also use this to display a bitmask plot that visually represents the optimal aperture used to create the SAP_FLUX column in HDU1.\n",
    "```"
   ]
  },
  {
   "cell_type": "markdown",
   "metadata": {},
   "source": [
    "## Sections (xN)\n",
    "\n",
    "The meat of your notebook should be sub-divided into sections with useful names to whatever extent makes sense base on the content. Break sections up with standard Markdown syntax headings:\n",
    "\n",
    "```\n",
    "# Section 1\n",
    "\n",
    "Intro to section 1\n",
    "\n",
    "### Sub-section 1a\n",
    "\n",
    "More detailed info about Section 1\n",
    "\n",
    "## Section 2\n",
    "\n",
    "A complete thought that's as important as section 1 but doesn't need sub-sections.\n",
    "```"
   ]
  },
  {
   "cell_type": "markdown",
   "metadata": {},
   "source": [
    "## Exercises\n",
    "Most notebooks are trying to convey _some_ information to their reader. It's often a good idea, if possible, to include in the notebook something where there is not an included answer so that the reader can cement in their mind how whatever it is they were supposed to learn from that notebook. If you do have exercise(s), be sure to leave a blank code cell underneath to show the user that it's meant for them to try it out right there. You may also want to include a \"solutions\" notebook next to your main notebook for the user to look at after they have finished their attempt."
   ]
  },
  {
   "cell_type": "markdown",
   "metadata": {},
   "source": [
    "## Aditional Resources\n",
    "While this isn't always necessary, sometimes you want to provide some more resources for the reader who wants to learn something beyond what's in the notebook. Sometimes these don't exist, but if they do, it's good to put them at the end to give the reader somewhere else to go. Usually a list of links using markdown bullet-plus-link format is appropriate:\n",
    "\n",
    "- [MAST API](https://mast.stsci.edu/api/v0/index.html)\n",
    "- [Kepler Archive Page (MAST)](https://archive.stsci.edu/kepler/)\n",
    "- [Kepler Archive Manual](https://archive.stsci.edu/kepler/manuals/archive_manual.pdf)\n",
    "- [Exo.MAST website](https://exo.mast.stsci.edu/exo/ExoMast/html/exomast.html)"
   ]
  },
  {
   "cell_type": "markdown",
   "metadata": {
    "slideshow": {
     "slide_type": "slide"
    }
   },
   "source": [
    "## About this notebook\n",
    "Let the world know who the author of this great notebook is! If possible/appropriate, include a contact email address for users who might need support (e.g. archive@stsci.edu)\n",
    "\n",
    "**Author:** Anand Sivaramakrishnan's transcription of Anthony Soulain's analysis script.  \n",
    "**Updated On:** YYYY-MM-DD"
   ]
  },
  {
   "cell_type": "markdown",
   "metadata": {},
   "source": [
    "***"
   ]
  },
  {
   "cell_type": "markdown",
   "metadata": {},
   "source": [
    "[Top of Page](#top)\n",
    "<img style=\"float: right;\" src=\"https://raw.githubusercontent.com/spacetelescope/notebooks/master/assets/stsci_pri_combo_mark_horizonal_white_bkgd.png\" alt=\"Space Telescope Logo\" width=\"200px\"/> "
   ]
  }
 ],
 "metadata": {
  "kernelspec": {
   "display_name": "Python 3",
   "language": "python",
   "name": "python3"
  },
  "language_info": {
   "codemirror_mode": {
    "name": "ipython",
    "version": 3
   },
   "file_extension": ".py",
   "mimetype": "text/x-python",
   "name": "python",
   "nbconvert_exporter": "python",
   "pygments_lexer": "ipython3",
   "version": "3.6.10"
  }
 },
 "nbformat": 4,
 "nbformat_minor": 2
}
